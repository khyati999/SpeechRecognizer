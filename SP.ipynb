{
 "cells": [
  {
   "cell_type": "code",
   "execution_count": 1,
   "metadata": {},
   "outputs": [],
   "source": [
    "import speech_recognition as sr"
   ]
  },
  {
   "cell_type": "code",
   "execution_count": 2,
   "metadata": {},
   "outputs": [],
   "source": [
    "r=sr.Recognizer()"
   ]
  },
  {
   "cell_type": "code",
   "execution_count": 3,
   "metadata": {},
   "outputs": [],
   "source": [
    "audio_file = sr.AudioFile('test.wav')"
   ]
  },
  {
   "cell_type": "code",
   "execution_count": 4,
   "metadata": {},
   "outputs": [
    {
     "name": "stdout",
     "output_type": "stream",
     "text": [
      "result2:\n",
      "{   'alternative': [   {   'confidence': 0.87380624,\n",
      "                           'transcript': 'I can sense is algorithm is a '\n",
      "                                         'strategy that a group of computers '\n",
      "                                         'used to agree between each other on '\n",
      "                                         \"what's true there is different kinds \"\n",
      "                                         'different flavorous instances '\n",
      "                                         'algorithms the people apply'},\n",
      "                       {   'transcript': 'I can sense is algorithm is a '\n",
      "                                         'strategy that a group of computers '\n",
      "                                         'used to agree between each other on '\n",
      "                                         \"what's true there is different kinds \"\n",
      "                                         'different flavours of the people '\n",
      "                                         'apply'},\n",
      "                       {   'transcript': 'I can sense is algorithm is a '\n",
      "                                         'strategy that a group of computers '\n",
      "                                         'used to agree between each other on '\n",
      "                                         \"what's true there is different kinds \"\n",
      "                                         'different flavorous instances '\n",
      "                                         'algorithms the people apply any one '\n",
      "                                         'person'},\n",
      "                       {   'transcript': 'I can sense is algorithm is a '\n",
      "                                         'strategy that a group of computers '\n",
      "                                         'used to agree between each other on '\n",
      "                                         \"what's true there is different kinds \"\n",
      "                                         'different flavours of the people '\n",
      "                                         'apply any one person'},\n",
      "                       {   'transcript': 'I can sense is algorithm is a '\n",
      "                                         'strategy that a group of computers '\n",
      "                                         'used to agree between each other on '\n",
      "                                         \"what's true there is different kinds \"\n",
      "                                         'different flavorous instances '\n",
      "                                         'algorithms the people apply anyone'}],\n",
      "    'final': True}\n"
     ]
    }
   ],
   "source": [
    "# We are using the recognize_google method which is speech recognition from Google’s Cloud Speech API \n",
    "with audio_file as source:\n",
    "    r.adjust_for_ambient_noise(source)\n",
    "    audio=r.record(source)\n",
    "\n",
    "    result=r.recognize_google(audio)\n",
    "\n"
   ]
  },
  {
   "cell_type": "code",
   "execution_count": 5,
   "metadata": {},
   "outputs": [
    {
     "name": "stdout",
     "output_type": "stream",
     "text": [
      "ready!\n"
     ]
    }
   ],
   "source": [
    "with open('test.txt',mode='w') as file:\n",
    "    file.write(\"Recognized text:\")\n",
    "    file.write(\"\\n\")\n",
    "    file.write(result)\n",
    "    print(\"ready!\")"
   ]
  }
 ],
 "metadata": {
  "kernelspec": {
   "display_name": "Python 3",
   "language": "python",
   "name": "python3"
  },
  "language_info": {
   "codemirror_mode": {
    "name": "ipython",
    "version": 3
   },
   "file_extension": ".py",
   "mimetype": "text/x-python",
   "name": "python",
   "nbconvert_exporter": "python",
   "pygments_lexer": "ipython3",
   "version": "3.11.1"
  },
  "orig_nbformat": 4,
  "vscode": {
   "interpreter": {
    "hash": "b98f472bb8ba48098397e3b897b5be76f7bf0e62d98845cdb0e8066dc5677259"
   }
  }
 },
 "nbformat": 4,
 "nbformat_minor": 2
}
